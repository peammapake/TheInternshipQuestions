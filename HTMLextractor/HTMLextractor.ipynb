{
  "nbformat": 4,
  "nbformat_minor": 0,
  "metadata": {
    "colab": {
      "name": "HTMLextractor.ipynb",
      "provenance": [],
      "collapsed_sections": []
    },
    "kernelspec": {
      "name": "python3",
      "display_name": "Python 3"
    }
  },
  "cells": [
    {
      "cell_type": "markdown",
      "metadata": {
        "id": "gfxS9wljQGP_",
        "colab_type": "text"
      },
      "source": [
        "By Bhimapaka Thapanangkun"
      ]
    },
    {
      "cell_type": "code",
      "metadata": {
        "id": "ASnZza6DoWu-",
        "colab_type": "code",
        "colab": {}
      },
      "source": [
        "from bs4 import BeautifulSoup\n",
        "import requests"
      ],
      "execution_count": 0,
      "outputs": []
    },
    {
      "cell_type": "code",
      "metadata": {
        "colab_type": "code",
        "outputId": "694ca592-df30-4c70-dbb6-15ec1f31a749",
        "id": "nbvSnzeJ96XG",
        "colab": {
          "base_uri": "https://localhost:8080/",
          "height": 757
        }
      },
      "source": [
        "source = requests.get('https://theinternship.io/').text\n",
        "\n",
        "web = BeautifulSoup(source, 'lxml')\n",
        "\n",
        "participants = web.find('div',class_=\"columns is-multiline\")\n",
        "\n",
        "companyList = []\n",
        "for partner in participants.findAll('div','partner'):\n",
        "  img = partner.div.img['src']\n",
        "  description = partner.text\n",
        "  textLength = len(description)\n",
        "  companyList.append([img, description,textLength])\n",
        "\n",
        "companyList.sort(key=lambda x: x[2])\n",
        "\n",
        "for img,description,textLength in companyList:\n",
        "  print(img)\n",
        "  print(description)"
      ],
      "execution_count": 0,
      "outputs": [
        {
          "output_type": "stream",
          "text": [
            "company/beid_logo.png\n",
            "  BeID one stop service digital identity platform\n",
            "company/3ds_logo.png\n",
            "  3DS Interactive Data Analytics Marketing Agency\n",
            "health-at-home.png\n",
            "  Health At Home บริการดูแลผู้สูงอายุและผู้ป่วย ส่งตรงถึงบ้านคุณ\n",
            "company/zeekdoc_logo.png\n",
            "  Zeek Doc ค้นหาแพทย์ใกล้บ้านนัดหมายออนไลน์ . และระบบจัดการนัดหมายสำหรับคลินิก\n",
            "company/click_logo.png\n",
            "  King Power Click The leading Creative and Technology Enabler providing the best Innovative businesses\n",
            "company/ava_logo.png\n",
            "  AVA is an investment Robo-Advisor with Artificial Intelligence technology to help investors increase their investment return with the ease of use.\n",
            "company/golfdigg_logo.png\n",
            "  Golf Digg Best Golf Booking Service In Thailand: Quickly and Easy Online Golf Booking Service to book tee time at over 150 great golf courses all across Thailand\n",
            "company/accrevo_logo.png\n",
            "  AccRevo ผู้ให้บริการด้านบัญชีในโลกยุคดิจิทัล ที่จะช่วยให้ผู้ประกอบการมีความสะดวก บริหารจัดการความยุ่งยากด้านเอกสารทางบัญชีได้ง่าย ทุกที่ทุกเวลา ช่วยให้ผู้ประกอบการ รับรู้ผลประกอบการที่ถูกต้องได้เร็วขึ้น\n",
            "company/coursesquare_logo.png\n",
            "  Course Square ผู้พัฒนาระบบเรียนออนไลน์มากว่า 5 ปี มีทีมผู้เชี่ยวชาญที่ร่วมกันสร้างนวัตกรรมการเรียนการสอนเพื่อยกระดับสถาบันกวดวิชาและองค์กรให้ก้าวทันเทคโนโลยี และให้ผู้เรียนและผู้สอนได้รับประสบการณ์ที่ดีที่สุดในการเรียนบนแพลตฟอร์มออนไลน์\n",
            "company/wisible_logo.png\n",
            "  บริษัท ไฟว์ลูป จำกัด เป็นผู้สร้าง Wisible Sales CRM Platform เป็นบริษัทเทคโนโลยีสัญชาติไทยที่ออกแบบและพัฒนาซอฟต์แวร์ด้วยทีมงานชาวไทย 100% ด้วยความมุ่งหวังที่จะสร้างเครื่องมือการทำงานที่เหมาะสมที่สุดกับการใช้งานของผู้ประกอบการเอสเอ็มอีในประเทศไทยและภูมิภาคเอเชียตะวันออกเฉียงใต้\n",
            "company/queq_logo.png\n",
            "  QueQ แอพจองคิวที่ไม่ธรรมดา ด้วยแนวคิดของการแก้ปัญหาการใช้ชีวิตของคนเมืองในสถานที่ที่คนเยอะๆ ที่สามารถตอบสนองต่อวิธีการใช้ชีวิตของผู้คนได้อย่างเห็นผลจริงๆ และกำลังขยายความไปสู่การแก้ปัญหาที่ใหญ่ขึ้น ท้าทายขึ้น และทำให้ชีวิตของผู้คนดีขึ้น พร้อมรึยังที่จะมา ท้าทายโลกเก่า วิถีเก่าๆ ร่วมกันกับพวกเรา\n",
            "company/codeapp_logo.png\n",
            "  Code App ถูกก่อตั้งขึ้นมาเพื่อเป็น “สนามเด็กเล่นของคนเขียนโค้ด” ที่ coders และ geeks มาทำงานด้วยความสนุกกับการสร้างสรรค์ซอฟต์แวร์แบบใส่ใจทุกรายละเอียด ตลอด 5 ปีที่ผ่านมา ที่เราได้ช่วยลูกค้าและพาร์ทเนอร์ของเราปรับตัวเข้าสู่ยุคดิจิทัลยุคสารสนเทศ ยุคของอัลกอริทึม ... เรากำลังเปลี่ยนโลก ทีละแอปพลิเคชั่น\n",
            "company/horganice_logo.png\n",
            "  Horganice เป็นระบบบริหารจัดการหอพัก อพาร์ทเม้นท์ ในรูปแบบ Online มาพร้อมกับฟังก์ชันที่ครอบคลุมการบริหารหอพักตั้งแต่การวางใบแจ้งหนี้ การชำระเงิน การวิเคราะห์ผลประกอบการ และยังมีระบบเชื่อมต่อการสื่อสารกับผู้เช่า ที่จะช่วยให้เจ้าของหอพักทำงานได้ง่ายและสะดวกเป็นเสือนอนกิน และ ยกระดับการอยู่อาศัยของผู้เช่า\n",
            "company/krungsri_logo.png\n",
            "  Krungsri Finnovate กรุงศรี ฟินโนเวต เป็นบริษัทในเครือธนาคารกรุงศรีอยุธยา มีนโยบายการลงทุนในธุรกิจสตาร์ทอัพเพื่อสนับสนุนให้บริษัทเหล่านี้สามารถขยายธุรกิจได้ตามเป้าหมาย ผ่าน Accelerator ชื่อ Krungsri RISE และการลงทุนในลักษณะ Corporate Venture Capital โดยได้รับการสนับสนุนความร่วมมือจากหน่วยงานต่างๆ ของธนาคาร \n",
            "company/pi-r-2_logo.png\n",
            "  Pi R Square เป็น Creative Technology Provider ในความเชื่อที่ใช้เทคโนโลยี และการออกแบบให้เข้ากันอย่างลงตัว ในการสร้างแอปปลิเคชั่น, เกม ให้กับลูกค้า เราเป็นทีมที่มีประสบการณ์จาก Silicon Valley เราพัฒนางาน และเป็นที่ปรึกษาให้กับบริษัทชั้นนำต่างๆ ในไทย เราเป็นทีมที่คำนึงถึง User Experience เป็นสำคัญ ในการสร้างสรรค์ผลงานใหม่ๆ อยู่ตลอดเวลา\n",
            "company/billme_logo.png\n",
            "  Billme (บิลมี) แพลทฟอร์มสำหรับรับและส่งดิจิทัลบิล (ใบเรียกเก็บเงินดิจัทัล) พร้อมด้วยโมบายแอปพลิเคชั่น Billme ทำให้การรับและส่งบิล การขอให้จ่ายเงินเป็นเรื่องง่ายสำหรับทุกคน ไม่ว่าจะเป็นการส่งคำขอให้เพื่อนจ่ายเงินเรา เพื่อเตือนตัวเองในการจ่ายบิล หรือเพื่อรับบิลและใบเสร็จรับเงินจากร้านค้าและบริการต่างๆ เรามุ่งมั่นที่จะเป็นส่วนสำคัญในวัฒนธรรมการเงินดิจิทัล\n",
            "company/sellsuki_logo.png\n",
            "  Sellsuki ระบบบริหารร้านค้าออนไลน์ที่ถูกออกแบบมาสำหรับการค้าขายในยุคของการสื่อสารผ่านแชทและการค้าขายผ่านหลายช่องทางทั้งทางเว็บไซต์ โซเชียล หรือหน้าร้านเรามีความเชื่อว่า1) เทคโนโลยีจะทำให้อนาคตของการค้าขายกลับมามีความเป็นมนุษย์2) การใช้แนวคิดทางธุรกิจ เทคโนโลยีและดีไซน์ ไปพร้อมๆกันจะนำไปสู่การออกแบบที่ถาวร3) ผู้ประกอบการควรมีความอิสระในการประกอบการ และไม่ควรใช้เวลาอยู่กับงานที่ซ้ำซากและจำเจ\n",
            "company/fire-one-one_logo.png\n",
            "  Fire one one ด้วยหลักการที่นำ ดีไซน์ และ เทคโนโลยี มาปรับใช้กับยุคเศรษฐกิจใหม่ ที่ผ่านมาไฟร์วันวันได้ช่วยยกระดับแนวคิดและเทคโนโลยีที่ขับเคลื่อนธุรกิจของลูกค้าในหลายๆอุตสาหกรรมจนพลิกเกมจากผู้เล่นสู่เป็นผู้นำในวงการ อย่างเช่น แสนสิริ ที่มียอดขายที่เพิ่มขึ้นสู่ 42,000พันล้านบาทในปี 2012 และกลายมาเป็นอันดับ 1 ในกลุ่มเทคโนโลยีของอุตสาหกรรม อสังหาริมทรัพย์ หลักการใช้ Design + Technology + Brand ยังสามารถช่วยสร้างความอยู่รอดและสร้างธุรกิจใหม่ให้กับกลุ่มธุรกิจเดิมได้อย่างต่อเนื่อง\n",
            "company/itax_logo.png\n",
            "  iTAX เชื่อว่ากฎหมายที่ซับซ้อนสามารถทำให้ง่ายได้เพื่อเป้าหมายสำคัญ คือ เพื่อช่วยให้ผู้คนทำภาษีได้อย่างถูกต้องได้เงินคืนภาษีสูงสุด วิถีของเราคือการทำโซลูชั่นภาษีที่ใช้งานง่ายและเหมาะสมกับบุคคลเช่น ระบบเตรียมภาษีผ่านคำถามง่ายๆ, ระบบวางแผนภาษีอัตโนมัติที่คัดเลือกให้เหมาะสมเฉพาะบุคคล หรือแม้แต่ฐานข้อมูลเปรียบเทียบตัวเลือกลดหย่อนภาษีในที่เดียวนอกจากนี้ iTAX จะเริ่มจัดการภาษีเงินเดือนพนักงานแบบอัตโนมัติให้กับฝ่ายบุคคล ลูกค้าองค์กรและพนักงาน และนั่นทำให้ iTAX สร้างสรรค์บริการภาษีที่ใช้งานง่ายในประเทศไทย\n",
            "company/rabbit_logo.png\n",
            "  Rabbit Digital Group - We believe in something so-called \"Effective Creativity\". In order to create a ground-breaking digital campaign with the combination of effectiveness and creativity, we put our efforts on originating ideas that generate new solutions for consumers while creating new opportunities for the brand. And most importantly, that idea must “break the norm”. We strive for works that solve problems and change consumers’ behaviors. Our works should not only create talks by just a viral video, but should also generate effectiveness. The conversations will transform into noteworthy case studies, become the reference for the followers and push the industries forward.\n",
            "company/creativeme_logo.png\n",
            "  Creative Me ให้การบริการ พัฒนาโปรแกรม และสื่อประเภทดิจิตอลคอนเทนต์ เพื่อวัตถุประสงค์ในการสร้างสรรค์กลยุทธ์ทางการตลาด ให้กับธุรกิจ และองค์กรต่างๆ ผ่านเทคโนโลยีที่ทันสมัยไม่ว่าจะเป็นเว็บไซต์ที่สามารถปรับการแสดงผลได้ตามขนาดของอุปกรณ์ที่เข้าใช้งาน(Responsive Website) และแอพพลิเคชันบนโทรศัพท์มือถือหรือแท๊บเล๊ต(Mobile Application) โดยเราวิจัย และพัฒนาแอพพลิเคชันบนระบบคอมพิวเตอร์ และอุปกรณ์สื่อสารไร้สายด้วยความคิดสร้างสรรค์ที่แปลกใหม่ เพื่อตอบสนองความต้องการขององค์กร และธุรกิจต่างๆ ให้สามารถก้าวทันเทคโนโลยีที่เข้ามาเปลี่ยนแปลงรูปแบบการใช้ชีวิตของกลุ่มผู้บริโภคในปัจจุบัน เปรียบเสมือนว่าเราเป็นผู้ช่วยคิดค้นกลยุทธ์และพัฒนาเครื่องมือให้กับธุรกิจหรือองค์กร เพื่อให้สามารถปรับใช้กับรูปแบบการใช้ชีวิตของกลุ่มผู้บริโภคในปัจจุบัน\n"
          ],
          "name": "stdout"
        }
      ]
    },
    {
      "cell_type": "code",
      "metadata": {
        "id": "SkwyHM0kxzxt",
        "colab_type": "code",
        "colab": {}
      },
      "source": [
        ""
      ],
      "execution_count": 0,
      "outputs": []
    }
  ]
}